{
  "nbformat": 4,
  "nbformat_minor": 0,
  "metadata": {
    "colab": {
      "name": "Trabalho Prog",
      "provenance": [],
      "collapsed_sections": []
    },
    "kernelspec": {
      "name": "python3",
      "display_name": "Python 3"
    }
  },
  "cells": [
    {
      "cell_type": "markdown",
      "metadata": {
        "id": "G90zxY79qIXe"
      },
      "source": [
        "<?xml version=\"1.0\" encoding=\"UTF-8\"?>\n",
        "<html>\n",
        "  <body>\n",
        "    <header></header>\n",
        "        <CENTER>\n",
        "          <img src=\"https://www.uvv.br/wp-content/themes/uvvBr/templates/assets//img/logouvv.svg\" alt=\"UVV-LOGO\" style = width=\"100px\"; height=\"100px\">\n",
        "        </CENTER>    \n",
        "        <CENTER><b>Laboratório de Programação- PYTHON</b><br/>\n",
        "        <CENTER><b>Lista de Exercício 1</b><br/>\n",
        "        <CENTER><b>Professor Alessandro Bertolani Oliveira</b></CENTER><br/>"
      ]
    },
    {
      "cell_type": "markdown",
      "metadata": {
        "id": "f9ly1B47rg_O"
      },
      "source": [
        "# NOMES DO GRUPO:"
      ]
    },
    {
      "cell_type": "markdown",
      "metadata": {
        "id": "dJKj_NK1uNvm"
      },
      "source": [
        "## Nome 3: Millena Lameri\n"
      ]
    },
    {
      "cell_type": "code",
      "metadata": {
        "id": "DhruStDlIaoO"
      },
      "source": [
        ""
      ],
      "execution_count": null,
      "outputs": []
    },
    {
      "cell_type": "markdown",
      "metadata": {
        "id": "l5GPMQSeCVAR"
      },
      "source": [
        "## Exercício 1A:\n",
        "Calcular e exibir a hipotenusa (𝐴) de um triângulo retângulo de catetos 𝐵 e 𝐶, sabendo que:\n",
        "\n",
        "![1A.png](data:image/png;base64,iVBORw0KGgoAAAANSUhEUgAAAKIAAAAmCAIAAADIsdeCAAAAAXNSR0IArs4c6QAAAARnQU1BAACxjwv8YQUAAAAJcEhZcwAADsMAAA7DAcdvqGQAAATdSURBVHhe7ZpPaBNZHMfnMJDDwh6EHAZyWBAUStfDLh4EDyOFCuthYZdAizSUXtbt0hXRioJs9GDrChZWjJauxboHa7stu+wfoSWiIGqoeFBiW8GD0CSHimzSBHQpj/r+TWY6817yppM0ie99Tp2XtPPe7/v7O1NtQyEBSmYpUDJLgZJZCpTMUqBklgIlsxS0lsyl7MP4ha5PNIJ5Or6Yp594oN+RDHp4D60l8+qT4bDeM5FcA2Al3mdoWmw2TT9y8uru8U/puSWDGsBDyyZtkBzv0PXBuzl67SCfGIiM3QP0SgFpUZlL2bmv9uvfx1f+pws264X5jhBTfolpRZmRxuHwCU5hfpUciJhzb+iVH8DK9ORENAZrAaK97dyde2vNlxNA+tH1wXKDovdc+uUFt0Ep41tmUhTZ2XI7IBqfSWS8cYwBybHIyUTeKQ+nVBux6MS8Q8inM4dDcLH7YQ5s5Jau7jE0IzycWqWfbie5xb9O2Z0m0vLimT8X8U7e56a+QC449CANQPHFj8gpzZHpYhV39CkzWJiN4dt3jjei+K3Dgx0O9fZj/4UO962nBoOlfsPwFmai9Jd2lIP046E2aCK9b/YZ/TKS2XbfbDwGj8lu8epJ8d9focDQBf9Zxrrmlic7TA2eaWkdXWKZjdOWH2PX1L6LZ/GHfHzJvF5MdRtf9x/brzdG5rKTlXHLUFge3W1ZxAmROdq/9I4uQHAT5160gO7SaRtXgAotoThU4z7ixxSYn4xDzE3SIwho4Ufm4q3hsBl9dF/wTzcAnkWIOewgwFSQmfiTQDK0qYHMhZejO2FC3jP9Wsy3SpmpvYZ2KJr6jy7wEZe5lLm9zxhKrTFN1iTwRql84iRM0C7X5B0EPEseNzTzLLf8MwkuM3OTXFCPYmqdHfMZEZ8QljmfGAwdQQNM88rMHaVYGZiEgid0tqYxJKjMvkLZn8YQQZlXnpz/zDITrnNVZSa+WR12aaxIKftgePSHnR6L8EYpYsFN/dfCVdOk/Spdw8BjRtylUZCAMpPgEbIG6pDQ5q89F58ChGSG0dAevmgVKlY7s23AJuWbcNtPJ9Ag4cpvKN+cYjkfc6Dy7t9V6pA194V+nhaMl2Ay43wjlLHRQKvr9qSHGqb2aKpIrngIyAwWZrrCjtBpqMzg7WoBWgKHnTNAsaUiA0mGlUmg2BaEU9kImkpdmZmZfrgDFdN1vAj26qjcwJsLeAnzvjUYqEiK8LLJxNuPx/15oxT9psuCzMVABIpmUlb8zG8+qSYzzAm7dmxW1FPqmNSxNhOIX1s5ljtckkBxW1A8SYrSyjKjchXqnbGeExHEZK4/zoiEP0MjsTQju3U5k3iSFKYeMoOF36NGTexcSWZc7T/33KburicKfSgGJSwV5g5GmPshhdn9YIT8otCDBVECycwsImRqqk0PxJeZTJDeqLWeONYyFLYI7Rv0wd+mOG+l6H8fOPuvdGLsKFzyN5BUJ5jM1Nr4xQl21tzy392MaWKrcGSmGiP0niu3yh0pCQ6Kj/G8XpT3w5rjQebGJcd7HotO8/JkIu1/Mq5MQJkhdJov09527mb8D/JiKijVWrBmpw5V9mOk1WVGYXT9QKjxjUJz0/oyKwRQMkuBklkKlMxSoGSWAiWzFCiZpUDJLAVKZgnY2PgAxhwRGNbZB0kAAAAASUVORK5CYII=)"
      ]
    },
    {
      "cell_type": "code",
      "metadata": {
        "id": "VYNU53cnCrCP"
      },
      "source": [
        "import math\n",
        "\n",
        "# Entrada dos catetos\n",
        "b = float(input('Digite o primeiro cateto: '))\n",
        "c = float(input('Digite o segundo cateto: '))\n",
        "\n",
        "# Processamento\n",
        "a = pow(b,2) + pow(c,2)\n",
        "a = math.sqrt(a)\n",
        "\n",
        "# Saída\n",
        "print(f'Sua hipotenusa é: {a: .1f}')\n",
        "\n"
      ],
      "execution_count": null,
      "outputs": []
    },
    {
      "cell_type": "markdown",
      "metadata": {
        "id": "QlFwbgDJINfr"
      },
      "source": [
        "## Exercício 1B:\n",
        "\n",
        "b) Calcular e exibir a área de um quadrado de lado (L). Área = L^2.\n"
      ]
    },
    {
      "cell_type": "code",
      "metadata": {
        "id": "M0RSKtXGJ-PY"
      },
      "source": [
        "#Entrada\n",
        "l = float(input('Digite o lado do quadrado: '))\n",
        "\n",
        "#Processamento\n",
        "area = pow(l,2)\n",
        "\n",
        "#Saída\n",
        "print(f'A área de seu quadrado é: {area: .1f}')\n"
      ],
      "execution_count": null,
      "outputs": []
    },
    {
      "cell_type": "markdown",
      "metadata": {
        "id": "6UKiL9uPK0Zo"
      },
      "source": [
        " ## Exercício 1C: Calcular e exibir a área de um retângulo de lado (L) e altura (H). Área = L * H."
      ]
    },
    {
      "cell_type": "code",
      "metadata": {
        "id": "gNWhB32LK6v3"
      },
      "source": [
        "#Entrada\n",
        "l = float(input('Insira o valor do lado: '))\n",
        "h = float(input('Insira o valor da altura: '))\n",
        "\n",
        "#Processamento\n",
        "area = l * h\n",
        "\n",
        "#Saída\n",
        "print(f'A área do retâgulo é: {area}')\n"
      ],
      "execution_count": null,
      "outputs": []
    },
    {
      "cell_type": "markdown",
      "metadata": {
        "id": "1i7jJagbLQLY"
      },
      "source": [
        "## Exercício 1D: Calcular e exibir a área e o comprimento de um círculo de Raio (R), sabendo que, Área = π * R^2 e Comprimento = 2 * π * R.\n"
      ]
    },
    {
      "cell_type": "code",
      "metadata": {
        "id": "8CdHGusnLesI"
      },
      "source": [
        "#Entrada\n",
        "r = float(input('Digite o raio do círculo: '))\n",
        "\n",
        "#Processamento\n",
        "area = 3.14 * pow(r, 2)\n",
        "comprimento = 2 * 3.14 * r\n",
        "\n",
        "#Saída\n",
        "print(f'A área do círculo é: {area: .1f}')\n",
        "print(f'O comprimento do círculo é: {comprimento: .1f}')"
      ],
      "execution_count": null,
      "outputs": []
    },
    {
      "cell_type": "markdown",
      "metadata": {
        "id": "Ycg00v__Ljhw"
      },
      "source": [
        "## Exercício 1E: Calcular e exibir o IMC (Índice de Massa Corpórea) de uma pessoa de altura (H) em metros e massa (M) em quilogramas, sabendo que IMC = M / H^2."
      ]
    },
    {
      "cell_type": "code",
      "metadata": {
        "id": "jV840xKtLtMI"
      },
      "source": [
        "#Entrada\n",
        "h = float(input('Digite sua altura: '))\n",
        "m = float(input('Digite sua massa: '))\n",
        "\n",
        "#Processamento\n",
        "imc = m / (pow(h,2))\n",
        "\n",
        "#Saída\n",
        "print(f'Seu imc é: {imc: .1f}')"
      ],
      "execution_count": null,
      "outputs": []
    },
    {
      "cell_type": "markdown",
      "metadata": {
        "id": "HtXSp9cGL4Lf"
      },
      "source": [
        "## Exercício 1F: Calcular e exibir o volume em litros de uma esfera de Raio (R), sabendo que o usuário deve informar o Raio (R) em metros. Sabe-se que: 𝑉𝑜𝑙𝑢𝑚𝑒 𝐸𝑠𝑓𝑒𝑟𝑎 = 4/3 * π * R3 e que 1 Litro é igual a 10^-3 m^3."
      ]
    },
    {
      "cell_type": "code",
      "metadata": {
        "id": "fmDU9Rt5Um2y"
      },
      "source": [
        "#Entrada\n",
        "r = float(input('Digite o valor do raio: '))\n",
        "\n",
        "#Processamento\n",
        "\n",
        "volume = 4/3 * 3.14 * (pow(r,3))\n",
        "litros = volume * pow(10, -3)\n",
        "\n",
        "#Saída\n",
        "\n",
        "print(f'A quantidade de litros utilizado será de: {litros: .2f}')\n"
      ],
      "execution_count": null,
      "outputs": []
    },
    {
      "cell_type": "markdown",
      "metadata": {
        "id": "gs5M9HFx2GiP"
      },
      "source": [
        "Exercicio 1G: Faça um Programa que pergunte quanto você ganha por hora e o número de horas trabalhadas no\n",
        "mês. Calcule e mostre o total do seu salário no referido mês, sabendo-se que são descontados 11%\n",
        "para o Imposto de Renda, 8% para o INSS e 5% para o sindicato. Com isso, exiba na tela:\n",
        "✓ salário bruto.\n",
        "✓ quanto pagou ao INSS.\n",
        "✓ quanto pagou ao sindicato.\n",
        "✓ o salário líquido = Brutos - Descontos"
      ]
    },
    {
      "cell_type": "code",
      "metadata": {
        "id": "UBvVdNqx2Y8P"
      },
      "source": [
        "#Entrada:\n",
        "pHora = float(input('quanto você ganha por hora?'))\n",
        "horas = float(input('quanto você trabalha por mês?(em horas)'))\n",
        "\n",
        "#processamento:\n",
        "salarioBruto = (horas * 25) * pHora\n",
        "INSS = salarioBruto* 0.11\n",
        "Sindicato = salarioBruto * 0.05\n",
        "imposto = salarioBruto * 0.11\n",
        "salarioLiquido = (((salarioBruto - INSS) - Sindicato) - imposto)\n",
        "#Resultados:\n",
        "print(salarioBruto,' reais por mês.')\n",
        "print(INSS,  ' gasto com o INSS')\n",
        "print(Sindicato, ' gasto com o Sindicato')\n",
        "print('tornando o seu salário liquido de miseros: ', salarioLiquido )"
      ],
      "execution_count": null,
      "outputs": []
    },
    {
      "cell_type": "markdown",
      "metadata": {
        "id": "vy3xLtHE2aoW"
      },
      "source": [
        "Exercicio1H: Calcular e exibir a quantidade de tinta (em latas) e o custo (em reais) para pintar um tanque cilíndrico\n",
        "de base circular de Raio (R) e altura (H) em metros, sabendo que:\n",
        "✓ 1 lata = 5 litros.\n",
        "✓ 1 litro pinta 3 metros quadrados.\n",
        "✓ 1 lata custa 50 Reais."
      ]
    },
    {
      "cell_type": "code",
      "metadata": {
        "id": "uJTuiAeB2iSf"
      },
      "source": [
        "r = float(input('Qual o raio?'))\n",
        "h = float(input('Qual a altura?'))\n",
        "area = (pow(r,2) * 3.14) * h\n",
        "contador = 0\n",
        "while (contador * 15 < area):\n",
        "    contador = contador + 1\n",
        "else:\n",
        "    print(contador, 'latas de tinta são necessárias')"
      ],
      "execution_count": null,
      "outputs": []
    },
    {
      "cell_type": "markdown",
      "metadata": {
        "id": "wpDW9xes2jhm"
      },
      "source": [
        "Exercicio1I: Calcular e exibir a distância entre dois pontos quaisquer do plano, P(x1, y1) e Q(x2, y2), sabendo que\n",
        "a fórmula da distância é d = √(x2 – x1)\n",
        "2 + (y2 – y1)\n",
        "2, sendo os pontos P(x1, y1) e Q(x2, y2) como\n",
        "dados de entrada."
      ]
    },
    {
      "cell_type": "code",
      "metadata": {
        "id": "DHCyp5aH2o-O"
      },
      "source": [
        ""
      ],
      "execution_count": null,
      "outputs": []
    },
    {
      "cell_type": "markdown",
      "metadata": {
        "id": "m07ODzQ_21tW"
      },
      "source": [
        "Exercicio1J: Calcular e exibir o tempo (em horas) de autonomia de uma caixa d’água de um restaurante que\n",
        "consome 1350 litros por hora em média. O tanque do restaurante é cilíndrico de base circular de Raio\n",
        "(R) e de altura (H) em metros. Sabendo que 1 m3 = 1000 Litros "
      ]
    },
    {
      "cell_type": "code",
      "metadata": {
        "id": "abTxzRrJ26bu"
      },
      "source": [
        "r = float(input('Qual o raio?'))\n",
        "h = float(input('Qual a altura?'))\n",
        "area = (pow(r,2) * 3.14) * h\n",
        "litros = area * 1000\n",
        "contador = 0\n",
        "while(contador * 1350 < litros):\n",
        "    contador= contador +1\n",
        "else:\n",
        "    print('autonomia de aproximadamente: ', contador, ' horas')\n"
      ],
      "execution_count": null,
      "outputs": []
    },
    {
      "cell_type": "markdown",
      "metadata": {
        "id": "iMoCNm-b2619"
      },
      "source": [
        "Exercicio1K: Faça um programa que peça o tamanho de um arquivo para download (em Megabytes) e a\n",
        "velocidade de um link de Internet (em Megabytes / Segundo), calcule e informe o tempo: Minutos +\n",
        "Segundos aproximado de download do arquivo usando este link."
      ]
    },
    {
      "cell_type": "code",
      "metadata": {
        "id": "WAOD5z7U2-mn"
      },
      "source": [
        ""
      ],
      "execution_count": null,
      "outputs": []
    },
    {
      "cell_type": "markdown",
      "metadata": {
        "id": "F3LaGcOE2_K-"
      },
      "source": [
        "Exercicio1L: Calcular e exibir a distância máxima (em Quilômetros) de autonomia de um carro que possui um\n",
        "tanque de combustível cúbico de lado (L) em metros e Altura (h) de preenchimento do tanque.\n",
        "Sabendo que seu consumo é em média 10 km/litro. Sabendo que 1 m3 = 1000 Litros."
      ]
    },
    {
      "cell_type": "code",
      "metadata": {
        "id": "hSbFwJdm3Clw"
      },
      "source": [
        "L = float(input('Qual a largura?'))\n",
        "H = float(input('Qual a altura?'))\n",
        "volume = (L * L) * H\n",
        "litros = volume * 1000\n",
        "kilometros = litros * 10\n",
        "print('o carro pode andar: ', kilometros)"
      ],
      "execution_count": null,
      "outputs": []
    },
    {
      "cell_type": "markdown",
      "metadata": {
        "id": "7m8_jSmN3DCu"
      },
      "source": [
        "Exercicio1: Escrever um algoritmo em Python que determine o volume e a área de uma esfera de raio 𝑟 (∈ ℝ+\n",
        "∗\n",
        ").\n",
        "Sendo que 𝜋 = 3.14 \n",
        "𝐴𝑟𝑒𝑎 = 4 ∗ 𝜋 ∗ 𝑟\n",
        "2\n",
        "✓ 𝑉𝑜𝑙𝑢𝑚𝑒 =\n",
        "4\n",
        "3\n",
        "∗ 𝜋 ∗ �"
      ]
    },
    {
      "cell_type": "code",
      "metadata": {
        "id": "E6_8ENEa3Jqf"
      },
      "source": [
        "r = float(input('raio?'))\n",
        "area = (4* 3.14)* (pow(r,2))\n",
        "volume = (4/3 * 3.1) * (pow(r,3))\n",
        "\n",
        "print('area: ', area)\n",
        "print('volume: ', volume)"
      ],
      "execution_count": null,
      "outputs": []
    },
    {
      "cell_type": "markdown",
      "metadata": {
        "id": "lhJmYoXj3N-g"
      },
      "source": [
        "Exercicio2: Escrever um algoritmo em Python que leia a Base (𝐵 > 0) e a Altura (𝐻 > 0) de um retângulo em\n",
        "centímetros e calcule e exiba na tela seu 𝑃𝑒𝑟í𝑚𝑒𝑡𝑟𝑜 (soma dos lados) em: Centímetros e\n",
        "✓ Polegadas e\n",
        "✓ Jardas\n"
      ]
    },
    {
      "cell_type": "code",
      "metadata": {
        "id": "m2piqx643uUI"
      },
      "source": [
        ""
      ],
      "execution_count": null,
      "outputs": []
    },
    {
      "cell_type": "markdown",
      "metadata": {
        "id": "32klDtJt3voP"
      },
      "source": [
        "Exercicio3: Faça um algoritmo em Python que leia o tempo (segundos) de permanência de um aluno no\n",
        "Laboratório de Programação: UVV e exiba na tela seu tempo de permanência: Horas + Minutos\n",
        "+ Segundos. Exemplo: Tempo: 10000 Segundos = 2 Hora(s) + 46 Minuto(s) + 40 Segundo(s).\n"
      ]
    },
    {
      "cell_type": "code",
      "metadata": {
        "id": "30-x4oZq3zee"
      },
      "source": [
        ""
      ],
      "execution_count": null,
      "outputs": []
    },
    {
      "cell_type": "markdown",
      "metadata": {
        "id": "5mCemzcP30m-"
      },
      "source": [
        "Exercicio4: Tendo como dado de entrada a altura (h) e o sexo de uma pessoa, construa um algoritmo que calcule\n",
        "seu peso (Massa: Quilogramas) ideal, utilizando as seguintes fórmulas: Para homens: (72.7 ∗ ℎ) − 58\n",
        "✓ Para mulheres: (62.1 ∗ ℎ) − 44.7"
      ]
    },
    {
      "cell_type": "code",
      "metadata": {
        "id": "holrtYk435Pe"
      },
      "source": [
        ""
      ],
      "execution_count": null,
      "outputs": []
    },
    {
      "cell_type": "markdown",
      "metadata": {
        "id": "qn9LPLX035qA"
      },
      "source": [
        "Exercicio5: Escrever um algoritmo em Python que exiba o público total (inteiro) de um jogo de futebol e\n",
        "forneça a arrecadação (R$: real) do jogo, sabendo que:\n",
        " Crianças abaixo de 10 anos não pagam;\n",
        " Jovens de 11 a 17 pagam ½ entrada;\n",
        " Acima dos 18 anos paga ½ entrada se doarem um quilo de alimento não perecível.\n",
        " O valor inteiro do ingresso é lido do usuário em reais (R$)."
      ]
    },
    {
      "cell_type": "code",
      "metadata": {
        "id": "agW2Wgx039zU"
      },
      "source": [
        "#exercicio 5\n",
        "\n",
        "people = ['']*1000\n",
        "print(people)\n",
        "index = -1\n",
        "porcentagem = 0\n",
        "for p in people:\n",
        "    index = index + 1\n",
        "    resposta = input('você está empregado?s ou n  ')\n",
        "    if (resposta == 's'):\n",
        "        porcentagem = porcentagem +1\n",
        "    people[index] = resposta\n",
        "    print(people)\n",
        "print(people)\n",
        "porcentagem = porcentagem /10\n",
        "print('a porcentagem é de ', porcentagem,'%')"
      ],
      "execution_count": null,
      "outputs": []
    },
    {
      "cell_type": "markdown",
      "metadata": {
        "id": "MwFeSUg74Ht_"
      },
      "source": [
        "Exercicio6: Faça um algoritmo que leia um número positivo e exiba se seu quadrado é ímpar e múltiplo de 11"
      ]
    },
    {
      "cell_type": "code",
      "metadata": {
        "id": "mBNO_TLo4LXP"
      },
      "source": [
        "#exercicio 6\n",
        "sm = 998.05\n",
        "condicaoA = sm*15\n",
        "CondicaoC = sm*5\n",
        "array = ['']*1000\n",
        "a = 0\n",
        "b = 0\n",
        "c = 0\n",
        "\n",
        "for p in array:\n",
        "    resposta = float(input('quanto você recebe em reais?'))\n",
        "    if (resposta >= condicaoA):\n",
        "        a = a + 1\n",
        "    else:\n",
        "        if(resposta < CondicaoC):\n",
        "            c = c + 1\n",
        "        else:\n",
        "            b  = b + 1\n",
        "a = a/10\n",
        "b = b/10\n",
        "c = c/10\n",
        "print('a porcentagem de \"a\", \"b\" e \"c\" são em ordem: ', a ,'%', b ,'%', c ,'%')"
      ],
      "execution_count": null,
      "outputs": []
    },
    {
      "cell_type": "markdown",
      "metadata": {
        "id": "VpGrwXfn4LxZ"
      },
      "source": [
        "Exercicio7: Escrever um algoritmo em Python que leia o Preço de uma mercadoria e exiba o preço na tela\n",
        "reajustado de 3%. O usuário escolherá a Opção: “Acréscimo” ou “Desconto” para o reajuste de 3 %"
      ]
    },
    {
      "cell_type": "code",
      "metadata": {
        "id": "UC4pLWT24Pcf"
      },
      "source": [
        ""
      ],
      "execution_count": null,
      "outputs": []
    },
    {
      "cell_type": "markdown",
      "metadata": {
        "id": "XeNiCiYG4P3O"
      },
      "source": [
        "Exercicio8: Escrever um algoritmo em Python que leia uma temperatura em Celsius (C) ou Fahrenheit (F) e faça\n",
        "a conversão entre as unidades. Considere que o usuário informe:"
      ]
    },
    {
      "cell_type": "code",
      "metadata": {
        "id": "qzNV9gKG4X-e"
      },
      "source": [
        ""
      ],
      "execution_count": null,
      "outputs": []
    },
    {
      "cell_type": "markdown",
      "metadata": {
        "id": "kDbniotK4YdG"
      },
      "source": [
        "Exercicio9: Escrever um algoritmo em Python que determine a conversão entre as moedas: Real, Dólar e Libra,\n",
        "de uma determinada quantidade em espécie e moeda informadas pelo usuário, sabendo que:\n",
        "R$ 4.08 = US$ 1.12 = £ 1.0 (Ver no Google a Cotação do \"dia\")"
      ]
    },
    {
      "cell_type": "code",
      "metadata": {
        "id": "wm8P_0DP4bYp"
      },
      "source": [
        ""
      ],
      "execution_count": null,
      "outputs": []
    },
    {
      "cell_type": "markdown",
      "metadata": {
        "id": "8fl3OI164b1X"
      },
      "source": [
        "Exercicio10: Escrever a mesma lógica do exercício 9 para mudar a unidade da variável Massa para Onça (Oz),\n",
        "Toneladas e Quilograma. (Ver no Google a relação entre essas unidades de Massa)"
      ]
    },
    {
      "cell_type": "code",
      "metadata": {
        "id": "g82EfydF4ezs"
      },
      "source": [
        ""
      ],
      "execution_count": null,
      "outputs": []
    },
    {
      "cell_type": "markdown",
      "metadata": {
        "id": "82DZY0_83Kju"
      },
      "source": [
        "Exercicio11: Escrever um algoritmo que leia de apenas um (1) veículo de um estacionamento do shopping: \n",
        "Hora de Entrada: formato HH:MM\n",
        "Hora de Saída: formato HH:MM\n",
        "Valor pago a cada 30 Minutos: R$__?__ / 30 Minutos;"
      ]
    },
    {
      "cell_type": "code",
      "metadata": {
        "id": "aEtvLRoS4qRW"
      },
      "source": [
        ""
      ],
      "execution_count": null,
      "outputs": []
    },
    {
      "cell_type": "markdown",
      "metadata": {
        "id": "dXuRlor-4qoH"
      },
      "source": [
        "Exercicio12: Escrever um algoritmo em Python que leia a Massa (Quilos) e a Altura (Metros) do indivíduo\n",
        "calculando o IMC = Massa / Altura2\n",
        ". Após isso, classifique-o conforme a tabela:"
      ]
    },
    {
      "cell_type": "code",
      "metadata": {
        "id": "bqSCT0jF4w3P"
      },
      "source": [
        "massa = float(input(\"Digite sua massa: \"))\n",
        "altura = float(input(\"Digite sua altura: \"))\n",
        "\n",
        "imc = massa / (altura*altura)\n",
        "\n",
        "if imc < 18.5:\n",
        "  print(\"A classificação de seu IMC é: Magreza\")\n",
        "\n",
        "elif 18.5 < imc < 25:\n",
        "    print(\"A classificação de seu IMC é: Saudável\")\n",
        "  \n",
        "elif (imc > 25 and imc < 30):\n",
        "    print(\"A classificação de seu IMC é: Sobrepeso\")\n",
        "    \n",
        "elif (imc > 25 and imc < 30):\n",
        "    print(\"A classificação de seu IMC é: Obesidade Grau I\")\n",
        "    \n",
        "elif (imc > 30 and imc < 35):\n",
        "    print(\"A classificação de seu IMC é: Obesidade Grau II (Severa)\")\n",
        "    \n",
        "elif (imc >= 40):\n",
        "    print(\"A classificação de seu IMC é: Obesidade de Grau III (Mórbida)\")\n",
        "\n"
      ],
      "execution_count": null,
      "outputs": []
    },
    {
      "cell_type": "markdown",
      "metadata": {
        "id": "tG6Hq4yF4xLQ"
      },
      "source": [
        "Exercicio13: Escrever um algoritmo em C que leia três (3) números reais quaisquer e exiba o cubo da média deles\n",
        "se está média estiver fora do intervalo fechado [10𝞥, 200𝞥]. Caso contrário, exiba a própria média.\n",
        "Valor de 𝞥 (PHI = 11.52743: Use 5 casas decimais: \":5\"\n"
      ]
    },
    {
      "cell_type": "code",
      "metadata": {
        "id": "-ULV7DBn40i3"
      },
      "source": [
        "a = float(input(\"Digite o primeiro valor: \"))\n",
        "b = float(input(\"Digite o segundo valor: \"))\n",
        "c = float(input(\"Digite o terceiro valor: \"))\n",
        "\n",
        "media = a+b+c/3\n",
        "\n",
        "it1 = 10 * 11.52743\n",
        "it2 = 200 * 11.52743\n",
        "media = a + b + c / 3\n",
        "\n",
        "if  it1 < media < it2:\n",
        "  media = media**3\n",
        "  print(f\"A media esta no intervalo{media: .5f}\")\n",
        "else:\n",
        "  print(f\"A media esta fora do intervalo{media: .5f}\")\n"
      ],
      "execution_count": null,
      "outputs": []
    },
    {
      "cell_type": "markdown",
      "metadata": {
        "id": "qtIYoJmU408Z"
      },
      "source": [
        "Exercicio14: Escrever um algoritmo que leia as notas entre [0, 10]: AV1, AV2 e PF e faltas: TF de um (1) aluno\n",
        "da UVV, sendo que:"
      ]
    },
    {
      "cell_type": "code",
      "metadata": {
        "id": "vN-8ky_c43_H"
      },
      "source": [
        "av1 = float(input(\"Digite a nota da 1º avaliação (entre [0, 10]): \"))\n",
        "av2 = float(input(\"Digite a nota da 2º avaliação (entre [0, 10]): \"))\n",
        "tf = int(input(\"Total geral de faltas: \"))\n",
        "mp = av1+av2/2\n",
        "\n",
        "if tf > 10:\n",
        "  print(\"Parabens, voce esta reprovado por faltas!\")\n",
        "elif mp >= 6:\n",
        "print(\"Aprovado\")\n",
        "elif mp < 6:\n",
        "  pf = float(input(\"Digite a nota final: (entre [0, 10])\"))\n",
        "  if pf >= 6:\n",
        "    print(\"Aprovado\")\n",
        "  else:\n",
        "    print(\"Reprovado\")\n"
      ],
      "execution_count": null,
      "outputs": []
    },
    {
      "cell_type": "markdown",
      "metadata": {
        "id": "y-2OWMlm44W3"
      },
      "source": [
        "Exercicio15: Escrever um algoritmo que leia cinco (5) valores inteiros Positivos e distintos (teste e avise ao\n",
        "usuário se os valores informados forem iguais) e exiba na saída a média dos números PARES e a\n",
        "média dos números ÍMPARES lidos do usuário."
      ]
    },
    {
      "cell_type": "code",
      "metadata": {
        "id": "36Ou62ur47p4"
      },
      "source": [
        "a = int(input(\"Digite um numero acima de 0: \"))\n",
        "b = int(input(\"Digite um numero acima de 0: \"))\n",
        "c = int(input(\"Digite um numero acima de 0: \"))\n",
        "d = int(input(\"Digite um numero acima de 0: \"))\n",
        "e = int(input(\"Digite um numero acima de 0: \"))\n",
        "\n",
        "if a == b == c == d == e:\n",
        "  print(\"Todo mundo e igual\")\n",
        "elif a >= 0 and b >= 0 and c >= 0 and d >= 0 and e >= 0:\n",
        "  \n",
        "  if a%2 == 0:\n",
        "    pnu=+ a \n",
        "    p=+ 1\n",
        "  else:\n",
        "    inu=+ a\n",
        "    i=+ 1\n",
        "\n",
        "  if b%2 == 0:\n",
        "    pnu=+ b \n",
        "    p=+ 1\n",
        "  else:\n",
        "    inu=+ b\n",
        "    i=+ 1\n",
        "\n",
        "  if c%2 == 0:\n",
        "    pnu=+ c \n",
        "    p=+ 1\n",
        "  else:\n",
        "    inu=+ c\n",
        "    i=+ 1\n",
        "\n",
        "  if d%2 == 0:\n",
        "    pnu=+ d \n",
        "    p=+ 1\n",
        "  else:\n",
        "    inu=+ d\n",
        "    i+= 1\n",
        "\n",
        "  if e%2 == 0:\n",
        "    pnu=+ e \n",
        "    p=+ 1\n",
        "  else:\n",
        "    inu=+ e\n",
        "    i=+ 1  \n",
        "  mp = pnu/p\n",
        "  mi = inu/i\n",
        "  print(f\"Media par: {mp}\")\n",
        "  print(f\"Media impar: {mi}\")\n",
        "\n",
        "\n",
        "\n",
        "else:\n",
        "  print(\"Um dos valores é menor que zero\")\n"
      ],
      "execution_count": null,
      "outputs": []
    },
    {
      "cell_type": "markdown",
      "metadata": {
        "id": "ZKuS1jMg47_v"
      },
      "source": [
        "Exercicio16: Escrever um algoritmo que leia três (3) valores reais quaisquer e distintos (teste e avise ao usuário\n",
        "se os valores informados forem iguais) e exiba na saída a média dos dois maiores números lidos."
      ]
    },
    {
      "cell_type": "code",
      "metadata": {
        "id": "K0Za48iq4_MP"
      },
      "source": [
        "a = int(input(\"Digite um numero acima de 0: \"))\n",
        "b = int(input(\"Digite um numero acima de 0: \"))\n",
        "c = int(input(\"Digite um numero acima de 0: \"))\n",
        "\n",
        "if a == b == c:\n",
        "  print(\"Os valores são iguais\")\n",
        "elif a >= 0 and b >= 0 and c >= 0:\n",
        "  if a > b > c:\n",
        "    md = (a+b)/2\n",
        "  elif a > c > b:\n",
        "    md = (a+c)/2\n",
        "  elif b > a > c:\n",
        "    md = (b+a)/2\n",
        "  elif b > c > a:\n",
        "    md = (b+c)/2\n",
        "  elif c > a > c:\n",
        "    md = (c+a)/2\n",
        "  elif c > b > a:\n",
        "    md = (c+a)/2\n",
        "  print(md)\n",
        "else:\n",
        "  print(\"O valor nao é positivo\")\n",
        "  \n",
        "\n",
        " "
      ],
      "execution_count": null,
      "outputs": []
    },
    {
      "cell_type": "markdown",
      "metadata": {
        "id": "W_zBm4EP4_jQ"
      },
      "source": [
        "Exercicio17: Escrever um algoritmo que leia três (3) valores reais e positivos: 𝐴, 𝐵 𝑒 𝐶 e verifique se formam um\n",
        "triângulo. Além disso; se formarem um triângulo dizer qual tipo, a saber:\n",
        "Equilátero: 3 Lados iguais ou\n",
        "Isósceles: 2 Lados quaisquer iguais ou\n",
        "Escaleno: 3 lados diferentes.\n",
        "Sabendo que; é triângulo se e somente se: 𝐴 < 𝐵 + 𝐶 e 𝐵 < 𝐴 + 𝐶 e 𝐶 < 𝐴 + �"
      ]
    },
    {
      "cell_type": "code",
      "metadata": {
        "id": "HmJTgc1o5IVY"
      },
      "source": [
        "a = int(input(\"Digite o valor de A \"))\n",
        "b = int(input(\"Digite o valor de B \"))\n",
        "c = int(input(\"Digite o valor de C \"))\n",
        "\n",
        "if a >= 0 and b >= 0 and c >= 0:\n",
        "  if a < b+c and b < a+c and c < a+b:\n",
        "    if a == b == c:\n",
        "      print(\"Esse triângulo é equilátero\")\n",
        "    elif a == b or b == c or c == a:\n",
        "      print(\"Esse triângulo é isósceles\")\n",
        "    elif a != b and b != c and c != a:\n",
        "      print(\"Esse triângulo é escaleno\")\n",
        "  else:\n",
        "    print(\"Isto não é um triângulo\")\n"
      ],
      "execution_count": null,
      "outputs": []
    },
    {
      "cell_type": "markdown",
      "metadata": {
        "id": "Xtmi5OcLr9Tv"
      },
      "source": [
        "# Referência Bibliográfica:"
      ]
    },
    {
      "cell_type": "markdown",
      "metadata": {
        "id": "tBOb6EVtr9u-"
      },
      "source": [
        "<div class=\"hint\">\n",
        "        <b>APRENDA+ :</b><br/>\n",
        "        &#10139; Site oficial <b>Python</b>:\n",
        "        <a href=\"https://www.python.org/\">Link</a><br/>\n",
        "        &#10139; Dica 1: Data Science: <b>Biblioteca Machine Learning: scikitlearn</b>:\n",
        "        <a href=\"https://scikit-learn.org/stable/\">Link</a><br/>\n",
        "        &#10139; Dica 2: Data Science: <b>Biblioteca Plotagem Gráfica: matplotlib</b>:\n",
        "        <a href=\"https://matplotlib.org/3.1.1/index.html\">Link</a><br/>\n",
        "        &#10139; Dica 3: Data Science: <b>Biblioteca Estrutura de Dados Tabular: pandas (dataframe)</b>:\n",
        "        <a href=\"https://pandas.pydata.org/pandas-docs/stable/index.html\">Link</a><br/>\n",
        "        &#10139; Dica 4: Data Science: <b>Introdução à Biblioteca: pandas (dataframe)</b>:\n",
        "        <a href=\"https://colab.research.google.com/notebooks/mlcc/intro_to_pandas.ipynb\">Link</a><br/>\n",
        "        &#10139; IDE JUPTER: <b>Pacote Anaconda (usar Python Offline)</b>:\n",
        "        <a href=\"https://anaconda.org\">Link</a><br/>\n",
        "        &#10139; IDE PYTHON: <b>PyCharm (usar Python Offline)</b>:\n",
        "        <a href=\"https://www.jetbrains.com/pycharm/\">Link</a><br/>\n",
        "    </div>"
      ]
    },
    {
      "cell_type": "markdown",
      "metadata": {
        "id": "AadmVnPUHrS7"
      },
      "source": [
        "<div id=\"sfch3lqf5ezjg94l33h7zree5la8femztky\"></div><script type=\"text/javascript\" src=\"https://counter2.stat.ovh/private/counter.js?c=h3lqf5ezjg94l33h7zree5la8femztky&down=async\" async></script><br><a href=\"https://www.webcontadores.com\">contador de visitas para blog</a><noscript><a href=\"https://www.webcontadores.com\" title=\"contador de visitas para blog\"><img src=\"https://counter2.stat.ovh/private/webcontadores.php?c=h3lqf5ezjg94l33h7zree5la8femztky\" border=\"0\" title=\"contador de visitas para blog\" alt=\"contador de visitas para blog\"></a></noscript>"
      ]
    },
    {
      "cell_type": "markdown",
      "metadata": {
        "id": "zUPRg30pH1ED"
      },
      "source": [
        "<a href=\"https://www.webcontadores.com\" title=\"contador de visitas para blog\"><img src=\"https://counter2.stat.ovh/private/webcontadores.php?c=h3lqf5ezjg94l33h7zree5la8femztky\" border=\"0\" title=\"contador de visitas para blog\" alt=\"contador de visitas para blog\"></a>"
      ]
    }
  ]
}